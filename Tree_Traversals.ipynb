{
  "nbformat": 4,
  "nbformat_minor": 0,
  "metadata": {
    "colab": {
      "provenance": [],
      "authorship_tag": "ABX9TyPiVXVsxcpOZQAloOnQIuzR",
      "include_colab_link": true
    },
    "kernelspec": {
      "name": "python3",
      "display_name": "Python 3"
    },
    "language_info": {
      "name": "python"
    }
  },
  "cells": [
    {
      "cell_type": "markdown",
      "metadata": {
        "id": "view-in-github",
        "colab_type": "text"
      },
      "source": [
        "<a href=\"https://colab.research.google.com/github/Ashley-Lijin/Tree-Traversala/blob/main/Tree_Traversals.ipynb\" target=\"_parent\"><img src=\"https://colab.research.google.com/assets/colab-badge.svg\" alt=\"Open In Colab\"/></a>"
      ]
    },
    {
      "cell_type": "code",
      "source": [
        "class Node:\n",
        "  def __init__(self, value):\n",
        "    self.val = value\n",
        "    self.left = None\n",
        "    self.right = None\n"
      ],
      "metadata": {
        "id": "TKoKGHSG6B7N"
      },
      "execution_count": 23,
      "outputs": []
    },
    {
      "cell_type": "markdown",
      "source": [
        "**In Order Traversal**"
      ],
      "metadata": {
        "id": "uSMzrjrdQaiJ"
      }
    },
    {
      "cell_type": "code",
      "source": [
        "def inOrder(root):\n",
        "  if root:\n",
        "    inOrder(root.left)\n",
        "    print(root.val)\n",
        "    inOrder(root.right)\n",
        "    \n",
        "inOrder(root)"
      ],
      "metadata": {
        "colab": {
          "base_uri": "https://localhost:8080/"
        },
        "id": "kOtz7LjNPvgx",
        "outputId": "ac92c560-b1ca-49f4-df9b-28444fbdebd8"
      },
      "execution_count": 24,
      "outputs": [
        {
          "output_type": "stream",
          "name": "stdout",
          "text": [
            "4\n",
            "2\n",
            "5\n",
            "1\n",
            "3\n"
          ]
        }
      ]
    },
    {
      "cell_type": "code",
      "source": [
        "def preOrder(root):\n",
        "  if root:\n",
        "    print(root.val)\n",
        "    preOrder(root.left)\n",
        "    preOrder(root.right)\n",
        "\n",
        "preOrder(root)"
      ],
      "metadata": {
        "id": "eSRp438QTP8L",
        "colab": {
          "base_uri": "https://localhost:8080/"
        },
        "outputId": "0cddbe74-0123-4ada-f296-06cbd5c71507"
      },
      "execution_count": 25,
      "outputs": [
        {
          "output_type": "stream",
          "name": "stdout",
          "text": [
            "1\n",
            "2\n",
            "4\n",
            "5\n",
            "3\n"
          ]
        }
      ]
    },
    {
      "cell_type": "code",
      "source": [
        "def postOrder(root):\n",
        "  if root:\n",
        "    postOrder(root.left)\n",
        "    postOrder(root.right)\n",
        "    print(root.val)\n",
        "    \n",
        "postOrder(root)"
      ],
      "metadata": {
        "colab": {
          "base_uri": "https://localhost:8080/"
        },
        "id": "T1CplCCtQvop",
        "outputId": "9fc01984-3e82-4803-94ea-4e189b0a197d"
      },
      "execution_count": 26,
      "outputs": [
        {
          "output_type": "stream",
          "name": "stdout",
          "text": [
            "4\n",
            "5\n",
            "2\n",
            "3\n",
            "1\n"
          ]
        }
      ]
    },
    {
      "cell_type": "code",
      "source": [
        "if __name__ == '__main__':\n",
        "  root = Node(1)\n",
        "  root.left = Node(2)\n",
        "  root.right = Node(3)\n",
        "  root.left.left = Node(4)\n",
        "  root.left.right = Node(5)"
      ],
      "metadata": {
        "id": "hbcInO-rRzpp"
      },
      "execution_count": 27,
      "outputs": []
    }
  ]
}